{
 "cells": [
  {
   "cell_type": "code",
   "execution_count": 0,
   "metadata": {
    "application/vnd.databricks.v1+cell": {
     "cellMetadata": {
      "byteLimit": 2048000,
      "rowLimit": 10000
     },
     "inputWidgets": {},
     "nuid": "53394d3c-833b-406c-934c-883b117929a2",
     "showTitle": false,
     "title": ""
    }
   },
   "outputs": [],
   "source": []
  },
  {
   "cell_type": "code",
   "execution_count": 0,
   "metadata": {
    "application/vnd.databricks.v1+cell": {
     "cellMetadata": {
      "byteLimit": 2048000,
      "rowLimit": 10000
     },
     "inputWidgets": {},
     "nuid": "a6b1883e-08b6-4866-b84f-dc7b6de7d502",
     "showTitle": false,
     "title": ""
    }
   },
   "outputs": [],
   "source": [
    "#Change this location to your own and then delete this comment\n",
    "%run \"/Workspace/Users/karaba@medinsight.milliman.com/Milliman_Presentation/create_example_dataset_functions\""
   ]
  },
  {
   "cell_type": "code",
   "execution_count": 0,
   "metadata": {
    "application/vnd.databricks.v1+cell": {
     "cellMetadata": {
      "byteLimit": 2048000,
      "rowLimit": 10000
     },
     "inputWidgets": {},
     "nuid": "86de4550-f60a-4286-83b0-b76c19bef244",
     "showTitle": false,
     "title": ""
    }
   },
   "outputs": [],
   "source": [
    "#Change this location to your own and then delete this comment\n",
    "%run \"/Workspace/Users/karaba@medinsight.milliman.com/Milliman_Presentation/lifetable_functions\""
   ]
  },
  {
   "cell_type": "code",
   "execution_count": 0,
   "metadata": {
    "application/vnd.databricks.v1+cell": {
     "cellMetadata": {
      "byteLimit": 2048000,
      "rowLimit": 10000
     },
     "inputWidgets": {},
     "nuid": "2fdd867f-2354-4ef4-8dce-4debe8158903",
     "showTitle": false,
     "title": ""
    }
   },
   "outputs": [],
   "source": [
    "sample_df = create_example_dataset()"
   ]
  },
  {
   "cell_type": "code",
   "execution_count": 0,
   "metadata": {
    "application/vnd.databricks.v1+cell": {
     "cellMetadata": {
      "byteLimit": 2048000,
      "rowLimit": 10000
     },
     "inputWidgets": {},
     "nuid": "08738ae5-3965-4448-a2a1-13f83be07fb4",
     "showTitle": false,
     "title": ""
    }
   },
   "outputs": [],
   "source": [
    "display(sample_df)"
   ]
  },
  {
   "cell_type": "code",
   "execution_count": 0,
   "metadata": {
    "application/vnd.databricks.v1+cell": {
     "cellMetadata": {
      "byteLimit": 2048000,
      "rowLimit": 10000
     },
     "inputWidgets": {},
     "nuid": "0ebfd2c4-8b07-48fd-ac36-26f8e78e84a7",
     "showTitle": false,
     "title": ""
    }
   },
   "outputs": [],
   "source": [
    "#2021 lifetables\n",
    "makelifetable(sample=sample_df, year=2021)"
   ]
  },
  {
   "cell_type": "code",
   "execution_count": 0,
   "metadata": {
    "application/vnd.databricks.v1+cell": {
     "cellMetadata": {
      "byteLimit": 2048000,
      "rowLimit": 10000
     },
     "inputWidgets": {},
     "nuid": "92e189c7-fb9d-428b-bdcc-73c01637f4b2",
     "showTitle": false,
     "title": ""
    }
   },
   "outputs": [],
   "source": [
    "#2022 lifetables\n",
    "makelifetable(sample=sample_df, year=2022)"
   ]
  },
  {
   "cell_type": "code",
   "execution_count": 0,
   "metadata": {
    "application/vnd.databricks.v1+cell": {
     "cellMetadata": {
      "byteLimit": 2048000,
      "rowLimit": 10000
     },
     "inputWidgets": {},
     "nuid": "a064b5ad-50b9-41fb-ad6c-43cff347bff4",
     "showTitle": false,
     "title": ""
    }
   },
   "outputs": [],
   "source": [
    "#2023 lifetables\n",
    "makelifetable(sample=sample_df, year=2023)"
   ]
  }
 ],
 "metadata": {
  "application/vnd.databricks.v1+notebook": {
   "dashboards": [],
   "environmentMetadata": {
    "base_environment": "",
    "client": "1"
   },
   "language": "python",
   "notebookMetadata": {
    "pythonIndentUnit": 4
   },
   "notebookName": "Example_Lifetable_Report",
   "widgets": {}
  }
 },
 "nbformat": 4,
 "nbformat_minor": 0
}
