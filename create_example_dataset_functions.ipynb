{
 "cells": [
  {
   "cell_type": "code",
   "execution_count": 0,
   "metadata": {
    "application/vnd.databricks.v1+cell": {
     "cellMetadata": {
      "byteLimit": 2048000,
      "rowLimit": 10000
     },
     "inputWidgets": {},
     "nuid": "67ff1c78-6466-472f-96b6-9fd41937d0b5",
     "showTitle": false,
     "title": ""
    }
   },
   "outputs": [],
   "source": [
    "#define functions needed to create example data"
   ]
  },
  {
   "cell_type": "code",
   "execution_count": 0,
   "metadata": {
    "application/vnd.databricks.v1+cell": {
     "cellMetadata": {
      "byteLimit": 2048000,
      "rowLimit": 10000
     },
     "inputWidgets": {},
     "nuid": "8a018f1a-5351-4874-bdf5-08ee871f03fb",
     "showTitle": false,
     "title": ""
    }
   },
   "outputs": [],
   "source": [
    "import random\n",
    "import datetime\n",
    "import pyspark.sql.functions as spark_funcs"
   ]
  },
  {
   "cell_type": "code",
   "execution_count": 0,
   "metadata": {
    "application/vnd.databricks.v1+cell": {
     "cellMetadata": {
      "byteLimit": 2048000,
      "rowLimit": 10000
     },
     "inputWidgets": {},
     "nuid": "77c5ab66-0c1a-4cf9-bbcd-797395c0835b",
     "showTitle": false,
     "title": ""
    }
   },
   "outputs": [],
   "source": [
    "#define function to create example pyspark dataframe with 250,000 rows and the following columns\n",
    "#id_code, date_of_birth, gender, death_indicator, date_of_death\n",
    "#date_of_death is blank for living members and populated for dead members\n",
    "#dates of death will be from 2021-2023 if populated\n",
    "\n",
    "def create_example_dataset():\n",
    "\n",
    "    #set seed for reproducibility\n",
    "    random.seed(1)\n",
    "\n",
    "    #array of ids with same number of digits\n",
    "    ids = [i for i in range(100000, 350001)]\n",
    "\n",
    "    #array of dates of birth, randomly generated from 1920-1963\n",
    "    start_date = datetime.date(1920, 1, 1)\n",
    "    end_date = datetime.date(1963, 12, 31)\n",
    "    dates_between = end_date - start_date\n",
    "    total_days = dates_between.days\n",
    "\n",
    "    dates_of_birth = []\n",
    "    for i in range(250000):\n",
    "        random_day = random.randrange(total_days)\n",
    "\n",
    "        dates_of_birth.append(start_date + datetime.timedelta(days=random_day))\n",
    "    \n",
    "\n",
    "    #array of genders evenly split\n",
    "    genders = ['M', 'F'] * 125000\n",
    "\n",
    "\n",
    "    #create death rate based on year of birth and gender for reference in death indicator coinflip\n",
    "    death_rate_F = []\n",
    "    for i in range(44):\n",
    "        rate = 0.010 + (i / 850)\n",
    "        if i > 31:\n",
    "            rate = rate + (i*i / 10000)\n",
    "        if i > 40:\n",
    "            rate = min(rate + (i / 44), 1)\n",
    "        death_rate_F.append(rate)\n",
    "\n",
    "    death_rate_M = []\n",
    "    for i in range(44):\n",
    "        rate = 0.012 + (i / 700)\n",
    "        if i > 29:\n",
    "            rate = rate + (i*i / 8500)\n",
    "        if i > 40:\n",
    "            rate = min(rate + (i / 44), 1)\n",
    "        death_rate_M.append(rate)\n",
    "\n",
    "\n",
    "    #array of binary death indicators, coin flip based on year of birth\n",
    "    death_indicators = []\n",
    "    for i in range(250000):\n",
    "        year_of_birth = dates_of_birth[i].year\n",
    "        comp = 43 - (year_of_birth - 1920)\n",
    "        if genders[i] == 'M':\n",
    "            death_indicators.append(random.random() < death_rate_M[comp])\n",
    "        else:\n",
    "            death_indicators.append(random.random() < death_rate_F[comp])\n",
    "\n",
    "\n",
    "    #array of dates of death, randomly generated from 2021-2023\n",
    "    #create death dates for all members in range 2021-2023, then remove for non-dead members\n",
    "    start_date = datetime.date(2021, 1, 1)\n",
    "    end_date = datetime.date(2023, 12, 31)\n",
    "    dates_between = end_date - start_date\n",
    "    total_days = dates_between.days\n",
    "\n",
    "    dates_of_death_temp = []\n",
    "    for i in range(250000):\n",
    "        random_day = random.randrange(total_days)\n",
    "\n",
    "        dates_of_death_temp.append(start_date + datetime.timedelta(days=random_day))\n",
    "\n",
    "    dates_of_death = []\n",
    "    for i in range(250000):\n",
    "        if death_indicators[i]:\n",
    "            dates_of_death.append(dates_of_death_temp[i])\n",
    "        else:\n",
    "            dates_of_death.append(None)\n",
    "\n",
    "    #create final output\n",
    "    data = []\n",
    "    for i in range(250000):\n",
    "        data.append([ids[i], dates_of_birth[i], genders[i], death_indicators[i], dates_of_death[i]])\n",
    "\n",
    "    return spark.createDataFrame(data, ['id_code', 'date_of_birth', 'gender', 'death_indicator', 'date_of_death'])\n",
    "\n",
    "\n"
   ]
  }
 ],
 "metadata": {
  "application/vnd.databricks.v1+notebook": {
   "dashboards": [],
   "environmentMetadata": {
    "base_environment": "",
    "client": "1"
   },
   "language": "python",
   "notebookMetadata": {
    "pythonIndentUnit": 4
   },
   "notebookName": "create_example_dataset_functions",
   "widgets": {}
  }
 },
 "nbformat": 4,
 "nbformat_minor": 0
}
